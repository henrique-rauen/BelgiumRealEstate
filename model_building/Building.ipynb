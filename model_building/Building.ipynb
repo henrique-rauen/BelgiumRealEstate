{
 "cells": [
  {
   "cell_type": "code",
   "execution_count": 2,
   "metadata": {},
   "outputs": [],
   "source": [
    "import pandas as pd\n",
    "import seaborn as sns\n",
    "from sklearn.linear_model import LinearRegression\n",
    "from sklearn.tree import DecisionTreeRegressor\n",
    "from sklearn.model_selection import train_test_split\n",
    "import numpy as np\n",
    "from sklearn.preprocessing import MaxAbsScaler"
   ]
  },
  {
   "cell_type": "code",
   "execution_count": 5,
   "metadata": {},
   "outputs": [],
   "source": [
    "df = utils.clean_df(\"../data/data.csv\")\n"
   ]
  },
  {
   "cell_type": "markdown",
   "metadata": {},
   "source": [
    "# Making a Machine learn model\n",
    "\n",
    "As we've learned from our previous analisys, living area is gonna be the biggest predictor in our model. Let's take a look at it."
   ]
  },
  {
   "cell_type": "code",
   "execution_count": null,
   "metadata": {},
   "outputs": [],
   "source": [
    "plots.living_price(df[[\"Price\", \"Living_area\"]])"
   ]
  },
  {
   "cell_type": "markdown",
   "metadata": {},
   "source": [
    "Let's see and remove some outliers."
   ]
  },
  {
   "cell_type": "code",
   "execution_count": null,
   "metadata": {},
   "outputs": [],
   "source": [
    "df = utils.outliers(df)\n",
    "plots.living_price(df[[\"Price\", \"Living_area\"]])"
   ]
  },
  {
   "cell_type": "markdown",
   "metadata": {},
   "source": [
    "Much better. A first attempt at modelling this data is doing a simple linear regression. Let's see how it goes:"
   ]
  },
  {
   "cell_type": "code",
   "execution_count": null,
   "metadata": {},
   "outputs": [],
   "source": [
    "modelling.apply_model(LinearRegression(), df_fancy[[\"Price\", \"Living_area\"]])[1]"
   ]
  },
  {
   "cell_type": "markdown",
   "metadata": {},
   "source": [
    "Score is not great which is not exactly unexpected. We know living_area is a strong predictor of price, but we also know that things are more complex than that. Here we can use our intuition to gives us a direction.\n",
    "\n",
    "What justifies the price difference between 2 homes with similar sizes on similar places?\n",
    "\n",
    "I will define here something called \"fancyness\", and we will try to use our data to define that fancyness. If I had to guess, having an open fire sounds pretty fancy to me. Also having a large terrain (or surface of land) (for example over 2000 m²) might also be an indicator of fancyness. In our dataset we also have a \"Subtype\" of property, chosen by the person creating the listing. I believe the options\n",
    "- Triplex\n",
    "- Castle\n",
    "- Exceptional Property\n",
    "\n",
    "All indicate something about fancyness. So let's create our fancy data."
   ]
  },
  {
   "cell_type": "code",
   "execution_count": null,
   "metadata": {},
   "outputs": [],
   "source": [
    "def select_fancy_properties(df):\n",
    "    fancy_subtypes = ['triplex', 'castle', \"exceptional property\"]\n",
    "    df_fancy = df[df[\"Subtype\"].isin(fancy_subtypes)]\n",
    "    df_fancy = pd.concat([df_fancy\n",
    "                        , df[df[\"Surface_of_land\"] > 2000]\n",
    "                        , df[df[\"Open Fire\"] == True]\n",
    "                        ])\n",
    "    df_fancy.drop_duplicates(inplace=True)\n",
    "    return df_fancy\n",
    "\n",
    "df_fancy = select_fancy_properties(df)"
   ]
  },
  {
   "cell_type": "code",
   "execution_count": null,
   "metadata": {},
   "outputs": [],
   "source": [
    "plots.living_price(df[[\"Price\", \"Living_area\"]])"
   ]
  },
  {
   "cell_type": "markdown",
   "metadata": {},
   "source": [
    "Seems to have a stronger correlation, let's apply a linear model to that subset of our data. "
   ]
  },
  {
   "cell_type": "code",
   "execution_count": null,
   "metadata": {},
   "outputs": [],
   "source": [
    "modelling.apply_model(LinearRegression(), df_fancy[[\"Price\", \"Living_area\"]])[1]"
   ]
  },
  {
   "cell_type": "markdown",
   "metadata": {},
   "source": [
    "It's better than before but so far we have used no information about location and we know the saying: real estate is all about location location location!\n",
    "\n",
    "As we've learned in the analysis, the best location indicator we have is district, let's make our model based on that. We will only use the 10 districts with the most amount of listings so that we still get a reasonable dataset per district."
   ]
  },
  {
   "cell_type": "code",
   "execution_count": null,
   "metadata": {},
   "outputs": [],
   "source": [
    "district_list=df_fancy[\"District\"].value_counts()[0:10].index.to_list()\n",
    "result = m.apply_model_district(LinearRegression(), df_fancy, district_list)\n",
    "print(result[1])"
   ]
  },
  {
   "cell_type": "markdown",
   "metadata": {},
   "source": [
    "Better results, but what about the remaining lists that are not in our top 10 districts?\n",
    "\n",
    "Let's take a look at how they behave together as a single unit."
   ]
  },
  {
   "cell_type": "code",
   "execution_count": null,
   "metadata": {},
   "outputs": [],
   "source": [
    "result = m.apply_model(LinearRegression(), df_fancy.loc[~df_fancy[\"District\"].isin(district_list), [\"Price\", \"Living_area\"]])\n",
    "print(result[1])"
   ]
  },
  {
   "cell_type": "markdown",
   "metadata": {},
   "source": [
    "## Fancy residences summary\n",
    "\n",
    "So far our model is performing ok for our so called fancy residences. Splitting our dataset seems like a good approach, both homes within our top 10 district as well as homes outside have a better relationship with living area than our entire dataset.\n",
    "\n",
    "But if we are right about fancy residences behaving differently from the rest, by separating them we are not only making their predictions better but also helping the remaing dataset, since the fancy homes would have been outliers that made it harder to make a single linear regression, as we have done so far, work well.\n",
    "\n",
    "So let's see if the remaining dataset is in a better position now."
   ]
  },
  {
   "cell_type": "code",
   "execution_count": null,
   "metadata": {},
   "outputs": [],
   "source": [
    "df_ordinary = df.loc[~df.index.isin(df_fancy[\"District\"].index.to_list()), :]\n",
    "plots.living_price(df_ordinary[[\"Price\", \"Living_area\"]])"
   ]
  },
  {
   "cell_type": "code",
   "execution_count": null,
   "metadata": {},
   "outputs": [],
   "source": [
    "result = m.apply_model(LinearRegression(), df_ordinary[[\"Price\", \"Living_area\"]])\n",
    "print(result[1])"
   ]
  },
  {
   "cell_type": "markdown",
   "metadata": {},
   "source": [
    "It's not a particularly impressive result, but it's a better result than before which confirms our hypothesis that fancy houses behave differently indeed. But we also need to remember that this is the largest part of our original daatset and therefore should be the part that benefits the most from splitting by district. So let's do that, but now using 15 districts instead of 10 due to the larger amount of data points per district."
   ]
  },
  {
   "cell_type": "code",
   "execution_count": null,
   "metadata": {},
   "outputs": [],
   "source": [
    "district_list=df_ordinary[\"District\"].value_counts()[0:15].index.to_list()\n",
    "result = m.apply_model_district(LinearRegression(), df_ordinary, district_list)\n",
    "print(result[1])"
   ]
  },
  {
   "cell_type": "markdown",
   "metadata": {},
   "source": [
    "Another meaningful improvement, the only thing that's left is testing the remaining data, those outside our top 15 districts. This is gonna be the data that is left behind, the rest of the dataset that were not categorized, so we expect the worst result here.  "
   ]
  }
 ],
 "metadata": {
  "kernelspec": {
   "display_name": "elizadata",
   "language": "python",
   "name": "python3"
  },
  "language_info": {
   "codemirror_mode": {
    "name": "ipython",
    "version": 3
   },
   "file_extension": ".py",
   "mimetype": "text/x-python",
   "name": "python",
   "nbconvert_exporter": "python",
   "pygments_lexer": "ipython3",
   "version": "3.10.6"
  },
  "orig_nbformat": 4
 },
 "nbformat": 4,
 "nbformat_minor": 2
}
